{
  "nbformat": 4,
  "nbformat_minor": 0,
  "metadata": {
    "colab": {
      "provenance": [],
      "toc_visible": true,
      "mount_file_id": "1S-dqe5aWEkzNgoHUzZ3z7zEk4uJCdzIr",
      "authorship_tag": "ABX9TyPHUpSD+ehgv4pjSc2UweqG",
      "include_colab_link": true
    },
    "kernelspec": {
      "name": "python3",
      "display_name": "Python 3"
    },
    "language_info": {
      "name": "python"
    }
  },
  "cells": [
    {
      "cell_type": "markdown",
      "metadata": {
        "id": "view-in-github",
        "colab_type": "text"
      },
      "source": [
        "<a href=\"https://colab.research.google.com/github/natalia7244/Machine-Learning-Exercises/blob/main/Missing_Values.ipynb\" target=\"_parent\"><img src=\"https://colab.research.google.com/assets/colab-badge.svg\" alt=\"Open In Colab\"/></a>"
      ]
    },
    {
      "cell_type": "markdown",
      "source": [
        "# Missing values"
      ],
      "metadata": {
        "id": "ZxRk_kKYFFux"
      }
    },
    {
      "cell_type": "code",
      "source": [
        "from google.colab import drive\n",
        "drive.mount('/content/drive')"
      ],
      "metadata": {
        "id": "4TBAnhR1Fh57"
      },
      "execution_count": null,
      "outputs": []
    },
    {
      "cell_type": "code",
      "source": [
        "import pandas as pd\n",
        "from sklearn.model_selection import train_test_split\n",
        "\n",
        "data = pd.read_csv('/content/drive/MyDrive/Data_sets/melb_data.csv')\n",
        "\n",
        "y = data.Price #target\n",
        "melb_predictions = data.drop(['Price'], axis = 1)\n",
        "X = melb_predictions.select_dtypes(exclude=['object']) #I use only numerical predictiors, to keep things sipmle\n",
        "\n",
        "X_train, X_valid, y_train, y_valid = train_test_split(X, y, train_size = 0.8, test_size = 0.2, random_state = 0) #divide data into training and validation subsets\n"
      ],
      "metadata": {
        "id": "QRMHglyZHIUU"
      },
      "execution_count": 3,
      "outputs": []
    },
    {
      "cell_type": "markdown",
      "source": [
        "# Define function to measure quality of each approach"
      ],
      "metadata": {
        "id": "KYHVRSqDJ0ps"
      }
    },
    {
      "cell_type": "code",
      "source": [
        "from sklearn.ensemble import RandomForestRegressor\n",
        "from sklearn.metrics import mean_absolute_error\n",
        "\n",
        "def score_dataset(X_train, X_valid, y_train, y_valid):\n",
        "  model = RandomForestRegressor(n_estimators=10, random_state=0) #10 trees, results are reproducible\n",
        "  # It's used for regression problems, it works by combining the predictions of multiple decision trees\n",
        "  model.fit(X_train, y_train) # trains the  model on training data\n",
        "  preds = model.predict(X_valid) # generates predictions for the validation set using the trained model\n",
        "  return mean_absolute_error(y_valid, preds) #A function that evaluates how good the model's predictions are"
      ],
      "metadata": {
        "id": "mXIEMD59J9Vz"
      },
      "execution_count": 2,
      "outputs": []
    },
    {
      "cell_type": "markdown",
      "source": [
        "# Approach 1 - Drop columns with missing values"
      ],
      "metadata": {
        "id": "jov58LXiMRaB"
      }
    },
    {
      "cell_type": "code",
      "source": [
        "columns_with_missing = [col for col in X_train.columns\n",
        "                        if X_train[col].isnull().any()] #get name of columns with missing values\n",
        "\n",
        "reduced_X_train = X_train.drop(columns_with_missing, axis =1) # drop columns in training data\n",
        "reduced_X_valid = X_valid.drop(columns_with_missing, axis =1) #drop columns in validation data\n",
        "\n",
        "print(\"MAE from Approach 1:\")\n",
        "print(score_dataset(reduced_X_train, reduced_X_valid, y_train, y_valid))"
      ],
      "metadata": {
        "colab": {
          "base_uri": "https://localhost:8080/"
        },
        "id": "VssJ2cxwMa75",
        "outputId": "28d44055-01d6-4d4f-8969-67b62026eab4"
      },
      "execution_count": 14,
      "outputs": [
        {
          "output_type": "stream",
          "name": "stdout",
          "text": [
            "MAE from Approach 1:\n",
            "183550.22137772635\n"
          ]
        }
      ]
    },
    {
      "cell_type": "markdown",
      "source": [
        "# Approach 2 - Imputation"
      ],
      "metadata": {
        "id": "OlqwnmY5PLM7"
      }
    },
    {
      "cell_type": "code",
      "source": [
        "from sklearn.impute import SimpleImputer #fill in missing data\n",
        "\n",
        "my_imputer = SimpleImputer()\n",
        "imputed_X_train = pd.DataFrame(my_imputer.fit_transform(X_train)) # calculates the mean of each column\n",
        "imputed_X_valid = pd.DataFrame(my_imputer.transform(X_valid)) # fills in the missing values those means\n",
        "                                                                  #convert it back to a pandas DataFrame\n",
        "\n",
        "imputed_X_train_columns = X_train.columns #Columns names are lost, so we need to restore them\n",
        "imputed_X_valid_columns = X_valid.columns\n",
        "\n",
        "print(\"MAE from Approach 2:\")\n",
        "print(score_dataset(imputed_X_train, imputed_X_valid, y_train, y_valid))"
      ],
      "metadata": {
        "colab": {
          "base_uri": "https://localhost:8080/"
        },
        "id": "WgP6MFVhPPjY",
        "outputId": "c20ef2d8-4b22-4679-9b0d-cc4f5ed70ed0"
      },
      "execution_count": 23,
      "outputs": [
        {
          "output_type": "stream",
          "name": "stdout",
          "text": [
            "MAE from Approach 2:\n",
            "178166.46269899711\n"
          ]
        }
      ]
    },
    {
      "cell_type": "markdown",
      "source": [
        "# Approach 3 - An Extension to Imputation"
      ],
      "metadata": {
        "id": "HnLNc9ZYVnLx"
      }
    },
    {
      "cell_type": "code",
      "source": [
        "X_train_plus = X_train.copy()\n",
        "X_valid_plus = X_valid.copy()\n",
        "\n",
        "for col in columns_with_missing:\n",
        "  X_train_plus[col + '_was_missing'] = X_train_plus[col].isnull()\n",
        "  X_valid_plus[col + '_was_missing'] = X_valid_plus[col].isnull()\n",
        "\n",
        "  my_imputer = SimpleImputer()\n",
        "imputed_X_train_plus = pd.DataFrame(my_imputer.fit_transform(X_train_plus)) # calculates the mean of each column\n",
        "imputed_X_valid_plus = pd.DataFrame(my_imputer.transform(X_valid_plus)) # fills in the missing values those means\n",
        "                                                                  #convert it back to a pandas DataFrame\n",
        "\n",
        "imputed_X_train_plus_columns = X_train_plus.columns #Put columns names back\n",
        "imputed_X_valid_plus_columns = X_valid_plus.columns\n",
        "\n",
        "\n",
        "print(\"MAE from Approach 3 (An Extension to Imputation):\")\n",
        "print(score_dataset(imputed_X_train_plus, imputed_X_valid_plus, y_train, y_valid))"
      ],
      "metadata": {
        "colab": {
          "base_uri": "https://localhost:8080/"
        },
        "id": "ct0KmM8AV_Op",
        "outputId": "4c0c604f-2736-42e5-85df-4f288cb4e462"
      },
      "execution_count": 26,
      "outputs": [
        {
          "output_type": "stream",
          "name": "stdout",
          "text": [
            "MAE from Approach 3 (An Extension to Imputation):\n",
            "178927.503183954\n"
          ]
        }
      ]
    },
    {
      "cell_type": "code",
      "source": [],
      "metadata": {
        "id": "1l2Pmb2nd-bt"
      },
      "execution_count": null,
      "outputs": []
    },
    {
      "cell_type": "markdown",
      "source": [
        "# Comparing Quality of Each Approach"
      ],
      "metadata": {
        "id": "zv1eYWpFd_M7"
      }
    },
    {
      "cell_type": "code",
      "source": [
        "print(\"MAE from Approach 1 (Drop columns with missing values):\")\n",
        "print(score_dataset(reduced_X_train, reduced_X_valid, y_train, y_valid))\n",
        "\n",
        "print(\"MAE from Approach 2 (Imputation):\")\n",
        "print(score_dataset(imputed_X_train, imputed_X_valid, y_train, y_valid))\n",
        "\n",
        "print(\"MAE from Approach 3 (An Extension to Imputation):\")\n",
        "print(score_dataset(imputed_X_train_plus, imputed_X_valid_plus, y_train, y_valid))"
      ],
      "metadata": {
        "colab": {
          "base_uri": "https://localhost:8080/"
        },
        "id": "9DjEr27YeN2d",
        "outputId": "84b1b596-5d75-4dc7-dd8b-32fdd66adccc"
      },
      "execution_count": 28,
      "outputs": [
        {
          "output_type": "stream",
          "name": "stdout",
          "text": [
            "MAE from Approach 1 (Drop columns with missing values):\n",
            "183550.22137772635\n",
            "MAE from Approach 2 (Imputation):\n",
            "178166.46269899711\n",
            "MAE from Approach 3 (An Extension to Imputation):\n",
            "178927.503183954\n"
          ]
        }
      ]
    }
  ]
}