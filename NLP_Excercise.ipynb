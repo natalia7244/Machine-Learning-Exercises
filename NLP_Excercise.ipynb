{
  "nbformat": 4,
  "nbformat_minor": 0,
  "metadata": {
    "colab": {
      "provenance": [],
      "toc_visible": true,
      "mount_file_id": "1Fwbp2y27H1D0l1kb0l8oaM5O8albpm_k",
      "authorship_tag": "ABX9TyO6wa14plb1opfCXgeOXksb",
      "include_colab_link": true
    },
    "kernelspec": {
      "name": "python3",
      "display_name": "Python 3"
    },
    "language_info": {
      "name": "python"
    }
  },
  "cells": [
    {
      "cell_type": "markdown",
      "metadata": {
        "id": "view-in-github",
        "colab_type": "text"
      },
      "source": [
        "<a href=\"https://colab.research.google.com/github/natalia7244/Machine-Learning-Exercises/blob/main/NLP_Excercise.ipynb\" target=\"_parent\"><img src=\"https://colab.research.google.com/assets/colab-badge.svg\" alt=\"Open In Colab\"/></a>"
      ]
    },
    {
      "cell_type": "markdown",
      "source": [
        "# Sentimenial Analysis - Excercise"
      ],
      "metadata": {
        "id": "Ovt90xIAlByn"
      }
    },
    {
      "cell_type": "code",
      "source": [
        "!python -m textblob.download_corpora\n"
      ],
      "metadata": {
        "colab": {
          "base_uri": "https://localhost:8080/"
        },
        "id": "h-vFJuvrqM2A",
        "outputId": "94a6ac85-5e45-4766-f00f-43c6135875bc"
      },
      "execution_count": 5,
      "outputs": [
        {
          "output_type": "stream",
          "name": "stdout",
          "text": [
            "[nltk_data] Downloading package brown to /root/nltk_data...\n",
            "[nltk_data]   Unzipping corpora/brown.zip.\n",
            "[nltk_data] Downloading package punkt_tab to /root/nltk_data...\n",
            "[nltk_data]   Unzipping tokenizers/punkt_tab.zip.\n",
            "[nltk_data] Downloading package wordnet to /root/nltk_data...\n",
            "[nltk_data] Downloading package averaged_perceptron_tagger_eng to\n",
            "[nltk_data]     /root/nltk_data...\n",
            "[nltk_data]   Unzipping taggers/averaged_perceptron_tagger_eng.zip.\n",
            "[nltk_data] Downloading package conll2000 to /root/nltk_data...\n",
            "[nltk_data]   Unzipping corpora/conll2000.zip.\n",
            "[nltk_data] Downloading package movie_reviews to /root/nltk_data...\n",
            "[nltk_data]   Unzipping corpora/movie_reviews.zip.\n",
            "Finished.\n"
          ]
        }
      ]
    },
    {
      "cell_type": "code",
      "source": [
        "from textblob import TextBlob\n",
        "\n",
        "# List of test sentences\n",
        "sentences = [\n",
        "    \"The movie was absolutely wonderful.\",\n",
        "    \"I had a terrible day at work.\",\n",
        "    \"This book is okay, but not exciting.\",\n",
        "    \"She is a brilliant teacher.\",\n",
        "    \"The food was cold and tasteless.\"\n",
        "]\n",
        "\n",
        "# Process each sentence\n",
        "for text in sentences:\n",
        "    blob = TextBlob(text) #converts the sentence into a TextBlob to understand words, feelings, grammar\n",
        "    adjectives = [word for word, tag in blob.tags if tag.startswith('JJ')]  # JJ = adjective\n",
        "    polarity = blob.sentiment.polarity  # -1 (negative) to +1 (positive)\n",
        "\n",
        "    print(f\"Sentence: {text}\")\n",
        "    print(f\"Adjectives: {adjectives}\")\n",
        "\n",
        "    if polarity > 0:\n",
        "        print(\"Sentiment: Positive\\n\")\n",
        "    elif polarity < 0:\n",
        "        print(\"Sentiment: Negative\\n\")\n",
        "    else:\n",
        "        print(\"Sentiment: Neutral\\n\")\n"
      ],
      "metadata": {
        "colab": {
          "base_uri": "https://localhost:8080/"
        },
        "id": "KROqn3RZmXI9",
        "outputId": "09497baa-a561-4436-c6df-46002c076fc2"
      },
      "execution_count": 6,
      "outputs": [
        {
          "output_type": "stream",
          "name": "stdout",
          "text": [
            "Sentence: The movie was absolutely wonderful.\n",
            "Adjectives: ['wonderful']\n",
            "Sentiment: Positive\n",
            "\n",
            "Sentence: I had a terrible day at work.\n",
            "Adjectives: ['terrible']\n",
            "Sentiment: Negative\n",
            "\n",
            "Sentence: This book is okay, but not exciting.\n",
            "Adjectives: ['okay', 'exciting']\n",
            "Sentiment: Positive\n",
            "\n",
            "Sentence: She is a brilliant teacher.\n",
            "Adjectives: ['brilliant']\n",
            "Sentiment: Positive\n",
            "\n",
            "Sentence: The food was cold and tasteless.\n",
            "Adjectives: ['cold']\n",
            "Sentiment: Negative\n",
            "\n"
          ]
        }
      ]
    },
    {
      "cell_type": "markdown",
      "source": [
        "# Is that news true or fake?"
      ],
      "metadata": {
        "id": "iFkRNulLtch7"
      }
    },
    {
      "cell_type": "code",
      "source": [
        "import pandas as pd\n",
        "\n",
        "true_posts = pd.read_csv('/content/drive/MyDrive/Data_sets/Fake_news/True.csv', usecols =['title', 'text'])\n",
        "fake_posts = pd.read_csv('/content/drive/MyDrive/Data_sets/Fake_news/Fake.csv', usecols = ['title', 'text'])"
      ],
      "metadata": {
        "id": "wVedManUt639"
      },
      "execution_count": 1,
      "outputs": []
    },
    {
      "cell_type": "markdown",
      "source": [
        "## New column - 'decision'"
      ],
      "metadata": {
        "id": "fimcOlXWwVTT"
      }
    },
    {
      "cell_type": "code",
      "source": [
        "true_posts['decision'] = 1\n",
        "fake_posts['decision'] = 0\n",
        "\n",
        "print('Wielkość danych:', 'TN:', true_posts.shape, 'FN:', fake_posts.shape)"
      ],
      "metadata": {
        "colab": {
          "base_uri": "https://localhost:8080/"
        },
        "id": "WMUVFhH2wav1",
        "outputId": "4a7c4e05-41d8-4c76-d763-72c9330d33a3"
      },
      "execution_count": 2,
      "outputs": [
        {
          "output_type": "stream",
          "name": "stdout",
          "text": [
            "Wielkość danych: TN: (21417, 3) FN: (23481, 3)\n"
          ]
        }
      ]
    },
    {
      "cell_type": "markdown",
      "source": [
        "## Join Datasest - combine rows"
      ],
      "metadata": {
        "id": "xUhnVR0-DPy2"
      }
    },
    {
      "cell_type": "code",
      "source": [
        "df = pd.concat([true_posts, fake_posts])\n",
        "\n",
        "print('Wielkość danych:', df.shape)"
      ],
      "metadata": {
        "colab": {
          "base_uri": "https://localhost:8080/"
        },
        "id": "G2Xz6L7VEa7W",
        "outputId": "bf081647-9035-4052-e181-f9ef531d348b"
      },
      "execution_count": 3,
      "outputs": [
        {
          "output_type": "stream",
          "name": "stdout",
          "text": [
            "Wielkość danych: (44898, 3)\n"
          ]
        }
      ]
    },
    {
      "cell_type": "code",
      "source": [
        "print(df)"
      ],
      "metadata": {
        "colab": {
          "base_uri": "https://localhost:8080/"
        },
        "id": "zd_VPztDEwPG",
        "outputId": "fd913f04-dfe6-4269-f1ec-f9d19f3db025"
      },
      "execution_count": 4,
      "outputs": [
        {
          "output_type": "stream",
          "name": "stdout",
          "text": [
            "                                                   title  \\\n",
            "0      As U.S. budget fight looms, Republicans flip t...   \n",
            "1      U.S. military to accept transgender recruits o...   \n",
            "2      Senior U.S. Republican senator: 'Let Mr. Muell...   \n",
            "3      FBI Russia probe helped by Australian diplomat...   \n",
            "4      Trump wants Postal Service to charge 'much mor...   \n",
            "...                                                  ...   \n",
            "23476  McPain: John McCain Furious That Iran Treated ...   \n",
            "23477  JUSTICE? Yahoo Settles E-mail Privacy Class-ac...   \n",
            "23478  Sunnistan: US and Allied ‘Safe Zone’ Plan to T...   \n",
            "23479  How to Blow $700 Million: Al Jazeera America F...   \n",
            "23480  10 U.S. Navy Sailors Held by Iranian Military ...   \n",
            "\n",
            "                                                    text  decision  \n",
            "0      WASHINGTON (Reuters) - The head of a conservat...         1  \n",
            "1      WASHINGTON (Reuters) - Transgender people will...         1  \n",
            "2      WASHINGTON (Reuters) - The special counsel inv...         1  \n",
            "3      WASHINGTON (Reuters) - Trump campaign adviser ...         1  \n",
            "4      SEATTLE/WASHINGTON (Reuters) - President Donal...         1  \n",
            "...                                                  ...       ...  \n",
            "23476  21st Century Wire says As 21WIRE reported earl...         0  \n",
            "23477  21st Century Wire says It s a familiar theme. ...         0  \n",
            "23478  Patrick Henningsen  21st Century WireRemember ...         0  \n",
            "23479  21st Century Wire says Al Jazeera America will...         0  \n",
            "23480  21st Century Wire says As 21WIRE predicted in ...         0  \n",
            "\n",
            "[44898 rows x 3 columns]\n"
          ]
        }
      ]
    },
    {
      "cell_type": "markdown",
      "source": [
        "## Mix rows - random order"
      ],
      "metadata": {
        "id": "CuEvp3xWJMim"
      }
    },
    {
      "cell_type": "code",
      "source": [
        "df = df.sample(frac=1)\n",
        "print(df)"
      ],
      "metadata": {
        "colab": {
          "base_uri": "https://localhost:8080/"
        },
        "id": "nFtQuupVJnNs",
        "outputId": "d2ff7157-7798-4a1c-8b09-a2a607edf3d3"
      },
      "execution_count": 7,
      "outputs": [
        {
          "output_type": "stream",
          "name": "stdout",
          "text": [
            "                                                   title  \\\n",
            "5340   Trump supports free press but will call out fa...   \n",
            "18070  AIRPORT PASSENGER “PAT DOWNS” Get More Intrusi...   \n",
            "4380    BUSTED: Donald Trump Screwed Over American St...   \n",
            "10695  Cruz seeks dismissal of case challenging U.S. ...   \n",
            "6014    WATCH: GOP Leader Won’t Call Trump’s Attack O...   \n",
            "...                                                  ...   \n",
            "9443   Trump rallies gun owners with fiery anti-Clint...   \n",
            "8709   Cleveland police say no shots fired on vehicle...   \n",
            "9500   BUSTED! WATCH MEDIA’S FAKE VIDEO Trying To Mak...   \n",
            "291     Trump Is Too Incompetent To Handle Disaster O...   \n",
            "20234  Israeli leader in Argentina, lauds effort to s...   \n",
            "\n",
            "                                                    text  decision  \n",
            "5340   BRUSSELS (Reuters) - U.S. President Donald Tru...         1  \n",
            "18070  One woman s awful experience at the airport co...         0  \n",
            "4380   Donald Trump claims he will  make America grea...         0  \n",
            "10695  AUSTIN, Texas (Reuters) - Republican Ted Cruz ...         1  \n",
            "6014   Republican presidential nominee Donald Trump s...         0  \n",
            "...                                                  ...       ...  \n",
            "9443   LOUISVILLE, Ky. (Reuters) - Republican preside...         1  \n",
            "8709   CLEVELAND (Reuters) - Police in Cleveland said...         1  \n",
            "9500   CNN and many other news outlets think they re ...         0  \n",
            "291    Trump has spent an awful lot of time whining a...         0  \n",
            "20234  BUENOS AIRES (Reuters) - Benjamin Netanyahu on...         1  \n",
            "\n",
            "[44898 rows x 3 columns]\n"
          ]
        }
      ]
    },
    {
      "cell_type": "code",
      "source": [
        "df.columns"
      ],
      "metadata": {
        "colab": {
          "base_uri": "https://localhost:8080/"
        },
        "id": "JcgMs7RcsmIZ",
        "outputId": "5471147b-9aa5-45f2-8642-cf9d453431ba"
      },
      "execution_count": 12,
      "outputs": [
        {
          "output_type": "execute_result",
          "data": {
            "text/plain": [
              "Index(['title', 'text', 'decision'], dtype='object')"
            ]
          },
          "metadata": {},
          "execution_count": 12
        }
      ]
    },
    {
      "cell_type": "markdown",
      "source": [
        "## Cleaning data using NLP rules"
      ],
      "metadata": {
        "id": "MPOksyqWK5vC"
      }
    },
    {
      "cell_type": "markdown",
      "source": [
        "### Stop Words"
      ],
      "metadata": {
        "id": "X4GwoAuVMLIj"
      }
    },
    {
      "cell_type": "code",
      "source": [
        "from spacy.lang.en.stop_words import STOP_WORDS\n",
        "\n",
        "stopwords = list(STOP_WORDS)\n",
        "\n",
        "\n",
        "print(f\"Stop wordz jest w liście {len(stopwords)}, a wyglądają następująco: \\n\\n\", stopwords)"
      ],
      "metadata": {
        "colab": {
          "base_uri": "https://localhost:8080/"
        },
        "id": "iaqMuXIDMQJ0",
        "outputId": "1d12fc46-3462-49f8-a7d8-d23d1f6c33c4"
      },
      "execution_count": 8,
      "outputs": [
        {
          "output_type": "stream",
          "name": "stdout",
          "text": [
            "Stop wordz jest w liście 326, a wyglądają następująco: \n",
            "\n",
            " ['somehow', 'onto', 'top', 'you', 'off', 'herself', 'my', 'would', 'ca', 'next', 'same', 'sixty', 'there', \"n't\", 'hereafter', 'i', 'be', 'why', 'anywhere', 'whereafter', 'thereupon', 'these', 'really', 'for', 'on', 'put', 'neither', 'beyond', 'using', 'serious', 'hereby', 'now', 'am', 'noone', 'together', 'therefore', 'itself', 'whenever', 'whereby', 'nobody', 'fifteen', 'they', 'those', '‘re', 'can', 'from', 'than', 'whereas', 'herein', 'either', 'everywhere', 'among', 'its', 'was', 'any', 'hence', 'something', 'everything', \"'d\", 'moreover', 'used', \"'ve\", 'n‘t', 'this', 'and', 'latter', 'whoever', '‘s', 're', 'show', 'within', 'least', 'becomes', 'yours', 'afterwards', 'back', '‘m', 'thereby', 'done', 'no', 'through', 'formerly', 'is', 'did', 'most', 'ours', \"'re\", 'therein', 'two', 'twenty', 'with', 'side', 'how', 'one', 'that', 'your', 'at', 'rather', 'whole', 'becoming', 'or', '’d', 'behind', 'full', 'please', 'because', 'yourselves', 'nor', 'just', 'ever', 'perhaps', 'her', \"'ll\", 'many', 'twelve', 'besides', 'does', '’s', 'front', 'hers', 'both', 'very', 'became', 'say', 'bottom', 'even', 'nowhere', 'she', 'via', 'beside', 'anyway', 'wherein', 'during', 'nevertheless', 'someone', 'are', 'further', 'without', 'whatever', 'quite', 'four', 'between', 'take', 'around', 'often', 'keep', 'unless', 'give', '‘d', 'alone', 'thus', 'another', 'namely', 'make', 'anyhow', 'them', 'him', 'whether', 'hundred', 'may', 'yourself', 'five', 'although', 'mostly', 'not', 'seem', 'once', 'been', 'almost', '’ll', 'as', 'the', 'seeming', 'per', 'will', 'meanwhile', 'should', 'whence', 'over', 'less', 'toward', 'name', 'were', 'part', 'whom', 'hereupon', 'also', 'in', 'might', '’ve', 'three', 'our', 'beforehand', 'latterly', 'seems', 'thru', 'sometimes', 'amount', 'everyone', 'nine', 'too', 'none', \"'s\", 'yet', 'their', 'had', 'amongst', 'has', 'to', 'never', '‘ve', 'whereupon', 'when', 'thence', 'every', 'where', 'only', 'me', 'out', 'first', 'ourselves', 'last', 'due', 'myself', 'few', 'mine', \"'m\", 'into', 'some', 'across', 'being', '’re', 'though', 'such', 'here', 'go', 'towards', 'until', 'again', 'several', 'down', 'eight', '‘ll', 'under', 'upon', 'somewhere', 'which', 'already', 'of', 'eleven', 'seemed', 'forty', 'anything', 'above', 'whose', 'regarding', 'who', 'elsewhere', 'themselves', 'all', 'each', 'former', 'then', 'n’t', 'whither', 'it', 'get', 'before', 'could', 'against', 'after', 'else', 'thereafter', 'by', 'cannot', 'much', 'well', 'see', 'since', 'enough', 'himself', 'move', 'throughout', 'us', 'six', 'anyone', 'indeed', 'his', 'about', 'otherwise', 'but', 'more', 'however', 'he', 'become', 'do', 'so', 'own', 'must', 'a', 'other', 'various', 'nothing', 'have', 'ten', 'while', 'up', 'wherever', 'if', 'except', 'along', 'still', 'empty', 'fifty', 'below', 'sometime', 'an', '’m', 'third', 'what', 'doing', 'made', 'we', 'others', 'always', 'call']\n"
          ]
        }
      ]
    },
    {
      "cell_type": "markdown",
      "source": [
        "### Punctation"
      ],
      "metadata": {
        "id": "4rHJjFaNM3Cq"
      }
    },
    {
      "cell_type": "code",
      "source": [
        "import re\n",
        "from string import punctuation\n",
        "\n",
        "\n",
        "print(\"Interpunkcja:\", punctuation)"
      ],
      "metadata": {
        "colab": {
          "base_uri": "https://localhost:8080/"
        },
        "id": "jrk-EKGlM7gb",
        "outputId": "7e171d28-bf95-4d7c-e9a6-8eaaad6fd1eb"
      },
      "execution_count": 9,
      "outputs": [
        {
          "output_type": "stream",
          "name": "stdout",
          "text": [
            "Interpunkcja: !\"#$%&'()*+,-./:;<=>?@[\\]^_`{|}~\n"
          ]
        }
      ]
    },
    {
      "cell_type": "markdown",
      "source": [
        "### Clean_text function"
      ],
      "metadata": {
        "id": "vKIo1eoeQV7z"
      }
    },
    {
      "cell_type": "code",
      "source": [
        "def clean_text(text):\n",
        "    temp = text.lower()  # 1. Make all letters lowercase\n",
        "    temp = re.sub('\\d', '', temp)  # 2. Remove all numbers\n",
        "    temp = re.sub('<[^>]*>', '', temp)  # 3. Remove HTML tags like <p> or <div>\n",
        "    emojis = re.findall('(?::|;|=)(?:-)?(?:\\)|\\(|D|P)', temp)  # 4. Find emojis like :) or :-D\n",
        "    temp = re.sub('[\\W]+', ' ', temp) + ' '.join(emojis).replace('-', '')  # 5. Remove symbols (keep emojis)\n",
        "    temp = re.sub('[{}]'.format(punctuation), '', temp)  # 6. Remove all punctuation\n",
        "    temp = temp.strip()  # 7. Remove extra spaces at the beginning and end\n",
        "    return temp  # 8. Return the cleaned text\n",
        "\n",
        "from nltk.stem.porter import PorterStemmer\n",
        "porter = PorterStemmer()\n",
        "\n",
        "def text_tokenizer(text):\n",
        "  text = clean_text(text) # wywołanie wcześniej przygotowanej funkcji do oczyszczenia\n",
        "  words_after_stem = [porter.stem(word) for word in text.split()] # split dzieli na pojedyncze słowa, a potem ten stemmer je przetwarza\n",
        "  return  [word for word in words_after_stem if word not in stopwords and len(word) > 2]\n"
      ],
      "metadata": {
        "id": "YdYUfp-JUA9v"
      },
      "execution_count": 10,
      "outputs": []
    },
    {
      "cell_type": "markdown",
      "source": [
        "\n",
        "## Data Transformation"
      ],
      "metadata": {
        "id": "IGlXkHIEo9CI"
      }
    },
    {
      "cell_type": "code",
      "source": [
        "from sklearn.model_selection import train_test_split\n",
        "from sklearn.feature_extraction.text import CountVectorizer\n",
        "\n",
        "y = df['decision']\n",
        "X = df['title'] + ' ' + ['text']\n",
        "\n",
        "X_train, X_test, y_train, y_test = train_test_split(X, y, test_size=0.3)\n",
        "\n",
        "vectorizer = CountVectorizer()\n",
        "\n",
        "X_train_transform = vectorizer.fit_transform(X_train)\n",
        "X_test_transform = vectorizer.transform(X_test)\n",
        "\n",
        "print(\"Train shape:\", X_train_transform.shape)\n",
        "print(\"Test shape:\", X_test_transform.shape)\n",
        "\n"
      ],
      "metadata": {
        "colab": {
          "base_uri": "https://localhost:8080/"
        },
        "id": "ujGM-2ygpEEq",
        "outputId": "fc374a3d-9d7a-43d0-ce40-cd66c055ca08"
      },
      "execution_count": 28,
      "outputs": [
        {
          "output_type": "stream",
          "name": "stdout",
          "text": [
            "Train shape: (31428, 18770)\n",
            "Test shape: (13470, 18770)\n"
          ]
        }
      ]
    },
    {
      "cell_type": "code",
      "source": [
        "print(X_train_transform)\n",
        "print(X_test_transform)"
      ],
      "metadata": {
        "colab": {
          "base_uri": "https://localhost:8080/"
        },
        "id": "NEx3YdBkwYsu",
        "outputId": "00c59f5a-8d32-46c2-9e64-4ef480a7e81a"
      },
      "execution_count": 29,
      "outputs": [
        {
          "output_type": "stream",
          "name": "stdout",
          "text": [
            "<Compressed Sparse Row sparse matrix of dtype 'int64'\n",
            "\twith 413906 stored elements and shape (31428, 18770)>\n",
            "  Coords\tValues\n",
            "  (0, 18203)\t1\n",
            "  (0, 5767)\t1\n",
            "  (0, 18178)\t1\n",
            "  (0, 7317)\t1\n",
            "  (0, 12470)\t1\n",
            "  (0, 981)\t1\n",
            "  (0, 4863)\t1\n",
            "  (0, 7474)\t1\n",
            "  (0, 16051)\t1\n",
            "  (0, 18373)\t1\n",
            "  (0, 18516)\t1\n",
            "  (0, 1047)\t1\n",
            "  (0, 8082)\t1\n",
            "  (0, 13251)\t1\n",
            "  (0, 17949)\t1\n",
            "  (0, 16766)\t1\n",
            "  (1, 16766)\t1\n",
            "  (1, 12626)\t1\n",
            "  (1, 5416)\t1\n",
            "  (1, 934)\t1\n",
            "  (1, 4547)\t1\n",
            "  (1, 7308)\t1\n",
            "  (1, 11704)\t1\n",
            "  (1, 2278)\t1\n",
            "  (1, 996)\t1\n",
            "  :\t:\n",
            "  (31426, 8632)\t1\n",
            "  (31426, 9306)\t1\n",
            "  (31426, 11526)\t1\n",
            "  (31426, 707)\t1\n",
            "  (31426, 12705)\t1\n",
            "  (31426, 18231)\t1\n",
            "  (31426, 11297)\t1\n",
            "  (31426, 15531)\t1\n",
            "  (31426, 1900)\t1\n",
            "  (31426, 14776)\t1\n",
            "  (31427, 17949)\t1\n",
            "  (31427, 16766)\t1\n",
            "  (31427, 9306)\t1\n",
            "  (31427, 18482)\t1\n",
            "  (31427, 17486)\t1\n",
            "  (31427, 5575)\t1\n",
            "  (31427, 6342)\t1\n",
            "  (31427, 796)\t1\n",
            "  (31427, 7486)\t1\n",
            "  (31427, 8008)\t1\n",
            "  (31427, 3743)\t1\n",
            "  (31427, 14141)\t1\n",
            "  (31427, 12303)\t1\n",
            "  (31427, 7013)\t1\n",
            "  (31427, 6176)\t1\n",
            "<Compressed Sparse Row sparse matrix of dtype 'int64'\n",
            "\twith 174887 stored elements and shape (13470, 18770)>\n",
            "  Coords\tValues\n",
            "  (0, 3387)\t1\n",
            "  (0, 4301)\t1\n",
            "  (0, 5514)\t1\n",
            "  (0, 8129)\t1\n",
            "  (0, 9885)\t1\n",
            "  (0, 11627)\t1\n",
            "  (0, 11686)\t1\n",
            "  (0, 12502)\t1\n",
            "  (0, 12881)\t1\n",
            "  (0, 14598)\t1\n",
            "  (0, 16766)\t1\n",
            "  (0, 16964)\t1\n",
            "  (0, 17630)\t1\n",
            "  (1, 2472)\t1\n",
            "  (1, 2671)\t1\n",
            "  (1, 5494)\t1\n",
            "  (1, 9198)\t1\n",
            "  (1, 9417)\t1\n",
            "  (1, 13859)\t1\n",
            "  (1, 16766)\t1\n",
            "  (1, 18358)\t1\n",
            "  (1, 18400)\t1\n",
            "  (2, 273)\t1\n",
            "  (2, 2199)\t1\n",
            "  (2, 7880)\t1\n",
            "  :\t:\n",
            "  (13468, 10721)\t1\n",
            "  (13468, 11883)\t1\n",
            "  (13468, 12614)\t1\n",
            "  (13468, 12847)\t1\n",
            "  (13468, 16766)\t1\n",
            "  (13468, 16855)\t1\n",
            "  (13468, 17144)\t1\n",
            "  (13468, 17280)\t1\n",
            "  (13469, 446)\t1\n",
            "  (13469, 2187)\t1\n",
            "  (13469, 3351)\t1\n",
            "  (13469, 5575)\t1\n",
            "  (13469, 6162)\t1\n",
            "  (13469, 6265)\t1\n",
            "  (13469, 7376)\t1\n",
            "  (13469, 8939)\t1\n",
            "  (13469, 9598)\t1\n",
            "  (13469, 10164)\t1\n",
            "  (13469, 11612)\t1\n",
            "  (13469, 14136)\t1\n",
            "  (13469, 16361)\t1\n",
            "  (13469, 16371)\t1\n",
            "  (13469, 16766)\t1\n",
            "  (13469, 17280)\t1\n",
            "  (13469, 17949)\t1\n"
          ]
        }
      ]
    },
    {
      "cell_type": "markdown",
      "source": [
        "## Data exploration and obtained results"
      ],
      "metadata": {
        "id": "DxpVmIA1zeFc"
      }
    },
    {
      "cell_type": "code",
      "source": [
        "from sklearn.tree import DecisionTreeClassifier\n",
        "from sklearn import metrics\n",
        "from sklearn.metrics import classification_report, confusion_matrix, ConfusionMatrixDisplay\n",
        "import matplotlib.pyplot as plt\n",
        "\n",
        "classifier = DecisionTreeClassifier(max_depth = 5)\n",
        "classifier.fit(X_train_transform, y_train)\n",
        "\n",
        "y_pred = classifier.predict(X_test_transform)\n",
        "\n",
        "print(\"Results of classification on the test set:\")\n",
        "print(classification_report(y_test, y_pred))"
      ],
      "metadata": {
        "colab": {
          "base_uri": "https://localhost:8080/"
        },
        "id": "FsHDubL_zwM7",
        "outputId": "c9b0346f-299b-4b95-8c60-48fca94ec24e"
      },
      "execution_count": 35,
      "outputs": [
        {
          "output_type": "stream",
          "name": "stdout",
          "text": [
            "Results of classification on the test set:\n",
            "              precision    recall  f1-score   support\n",
            "\n",
            "           0       0.94      0.63      0.75      7084\n",
            "           1       0.70      0.95      0.81      6386\n",
            "\n",
            "    accuracy                           0.78     13470\n",
            "   macro avg       0.82      0.79      0.78     13470\n",
            "weighted avg       0.82      0.78      0.78     13470\n",
            "\n"
          ]
        }
      ]
    },
    {
      "cell_type": "markdown",
      "source": [
        "### Confusion Matrix"
      ],
      "metadata": {
        "id": "cE5FtczV1m8l"
      }
    },
    {
      "cell_type": "code",
      "source": [
        "cm = confusion_matrix(y_test, y_pred)\n",
        "cm_display = metrics.ConfusionMatrixDisplay(confusion_matrix= cm, display_labels=['true', 'false'])\n",
        "fig, ax = plt.subplots(figsize=(4,4))\n",
        "cm_display.plot(ax=ax)\n",
        "plt.show()\n",
        ""
      ],
      "metadata": {
        "colab": {
          "base_uri": "https://localhost:8080/",
          "height": 359
        },
        "id": "S95jeHTB1q23",
        "outputId": "4d6c6888-ef41-4036-ac02-dc91f7ed9a85"
      },
      "execution_count": 36,
      "outputs": [
        {
          "output_type": "display_data",
          "data": {
            "text/plain": [
              "<Figure size 400x400 with 2 Axes>"
            ],
            "image/png": "[encoded data removed]"
          },
          "metadata": {}
        }
      ]
    },
    {
      "cell_type": "markdown",
      "source": [
        "## Data Visualization"
      ],
      "metadata": {
        "id": "z-XbSFIo52RB"
      }
    },
    {
      "cell_type": "code",
      "source": [
        "import matplotlib.pyplot as plt\n",
        "from sklearn.feature_extraction.text import TfidfVectorizer, CountVectorizer\n",
        "from prettytable import PrettyTable\n",
        "\n",
        "# Simple tokenizer – converts to lowercase and splits by spaces\n",
        "def text_tokenizer(text):\n",
        "    return text.lower().split()\n",
        "\n",
        "# Calculate word weights (TF-IDF or Count)\n",
        "def calculate_word_weights(text_data, use_tfidf=True):\n",
        "    if use_tfidf:\n",
        "        vectorizer = TfidfVectorizer(tokenizer=text_tokenizer, stop_words='english')\n",
        "    else:\n",
        "        vectorizer = CountVectorizer(tokenizer=text_tokenizer, stop_words='english')\n",
        "\n",
        "    X = vectorizer.fit_transform(text_data)\n",
        "    means = X.mean(axis=0).tolist()[0]\n",
        "    words = vectorizer.get_feature_names_out()\n",
        "\n",
        "    # Add length filter and custom stopwords\n",
        "    custom_stopwords = {'s', 't', '-', 'said', 'said.', '(', ')', 'reuters', 'u.s.'}\n",
        "    word_weights = {\n",
        "        words[i]: means[i]\n",
        "        for i in range(len(words))\n",
        "        if len(words[i]) > 2 and words[i] not in custom_stopwords\n",
        "    }\n",
        "\n",
        "    sorted_weights = dict(sorted(word_weights.items(), key=lambda x: x[1], reverse=True))\n",
        "    return sorted_weights\n",
        "\n",
        "# Visualize results – bar chart and table\n",
        "def visualize_bow_terms(bow, title, top_n=15, pdf_name=\"fig.pdf\"):\n",
        "    top_items = list(bow.items())[:top_n]\n",
        "    terms = [item[0] for item in top_items]\n",
        "    weights = [item[1] for item in top_items]\n",
        "\n",
        "    # Chart\n",
        "    plt.barh(terms, weights)\n",
        "    plt.title(title)\n",
        "    plt.gca().invert_yaxis()\n",
        "    plt.tight_layout()\n",
        "    plt.show()\n",
        "    plt.savefig(pdf_name)\n",
        "    plt.clf()\n",
        "\n",
        "    # Table\n",
        "    table = PrettyTable()\n",
        "    table.title = title\n",
        "    table.add_column(\"Term\", terms)\n",
        "    table.add_column(\"Weight\", weights)\n",
        "    print(table)\n",
        "\n"
      ],
      "metadata": {
        "id": "jocOj1LQ98XI"
      },
      "execution_count": 50,
      "outputs": []
    },
    {
      "cell_type": "code",
      "source": [
        "top_n = 15  #How many top words to display?\n",
        "\n",
        "# TRUE NEWS\n",
        "visualize_bow_terms(\n",
        "    calculate_word_weights(df[df['decision'] == 1]['text'], use_tfidf=True),\n",
        "    'Crucial tokens based on TF-IDF weight: True News (top ' + str(top_n) + ')',\n",
        "    top_n=top_n,\n",
        "    pdf_name=\"fig_TF-IDF_tn.pdf\"\n",
        ")\n",
        "\n",
        "# FALSE NEWS\n",
        "visualize_bow_terms(\n",
        "    calculate_word_weights(df[df['decision'] == 0]['text'], use_tfidf=True),\n",
        "    'Crucial tokens based on TF-IDF weight: False News (top ' + str(top_n) + ')',\n",
        "    top_n=top_n,\n",
        "    pdf_name=\"fig_TF-IDF_fn.pdf\"\n",
        ")\n",
        "\n"
      ],
      "metadata": {
        "colab": {
          "base_uri": "https://localhost:8080/",
          "height": 1000
        },
        "id": "ycOzkfi_-jwo",
        "outputId": "79c1edec-2e16-4cc2-c2ff-a66a8c11a879"
      },
      "execution_count": 51,
      "outputs": [
        {
          "output_type": "display_data",
          "data": {
            "text/plain": [
              "<Figure size 640x480 with 1 Axes>"
            ],
            "image/png": "[encoded data removed]"
          },
          "metadata": {}
        },
        {
          "output_type": "stream",
          "name": "stdout",
          "text": [
            "+-----------------------------------------------------------+\n",
            "| Crucial tokens based on TF-IDF weight: True News (top 15) |\n",
            "+--------------------+--------------------------------------+\n",
            "|        Term        |                Weight                |\n",
            "+--------------------+--------------------------------------+\n",
            "|       trump        |         0.03232709446372658          |\n",
            "|     president      |         0.019407262607239652         |\n",
            "|       house        |         0.017163169319642246         |\n",
            "|       united       |         0.015469874744532475         |\n",
            "|     republican     |         0.01518226216335184          |\n",
            "|       state        |         0.015097268470438553         |\n",
            "|        new         |         0.014408381570609736         |\n",
            "|     government     |         0.014318313759184126         |\n",
            "|     (reuters)      |         0.014182763167138446         |\n",
            "|       north        |         0.013475288114182755         |\n",
            "|     washington     |         0.01336247031165545          |\n",
            "|        told        |         0.013059420334122652         |\n",
            "|      trump’s       |         0.012834662994510374         |\n",
            "|       white        |         0.012395593936594512         |\n",
            "|       states       |         0.012300859096234898         |\n",
            "+--------------------+--------------------------------------+\n"
          ]
        },
        {
          "output_type": "display_data",
          "data": {
            "text/plain": [
              "<Figure size 640x480 with 1 Axes>"
            ],
            "image/png": "[encoded data removed]"
          },
          "metadata": {}
        },
        {
          "output_type": "stream",
          "name": "stdout",
          "text": [
            "+------------------------------------------------------------+\n",
            "| Crucial tokens based on TF-IDF weight: False News (top 15) |\n",
            "+--------------------+---------------------------------------+\n",
            "|        Term        |                 Weight                |\n",
            "+--------------------+---------------------------------------+\n",
            "|       trump        |          0.046251069045908144         |\n",
            "|     president      |          0.017051594602305112         |\n",
            "|      clinton       |          0.016231061636794792         |\n",
            "|       obama        |          0.015573113039780463         |\n",
            "|       people       |          0.015524307182252806         |\n",
            "|       donald       |          0.013999051662081432         |\n",
            "|      hillary       |          0.013932235211991321         |\n",
            "|        just        |          0.01369030460073189          |\n",
            "|        like        |          0.012270161624106045         |\n",
            "|       white        |          0.011479967949779946         |\n",
            "|        new         |          0.010714990394212186         |\n",
            "|        news        |          0.010284230182497854         |\n",
            "|       state        |          0.009707700608099475         |\n",
            "|     republican     |          0.009077526936364102         |\n",
            "|        don         |          0.009066569310512862         |\n",
            "+--------------------+---------------------------------------+\n"
          ]
        },
        {
          "output_type": "display_data",
          "data": {
            "text/plain": [
              "<Figure size 640x480 with 0 Axes>"
            ]
          },
          "metadata": {}
        }
      ]
    }
  ]
}